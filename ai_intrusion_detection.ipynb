{
  "nbformat": 4,
  "nbformat_minor": 0,
  "metadata": {
    "colab": {
      "provenance": []
    },
    "kernelspec": {
      "name": "python3",
      "display_name": "Python 3"
    },
    "language_info": {
      "name": "python"
    }
  },
  "cells": [
    {
      "cell_type": "code",
      "execution_count": 2,
      "metadata": {
        "colab": {
          "base_uri": "https://localhost:8080/"
        },
        "id": "VpatrPjdxd80",
        "outputId": "7defb3b6-9504-428f-e4fe-a585575db751"
      },
      "outputs": [
        {
          "output_type": "stream",
          "name": "stdout",
          "text": [
            "모델 정확도: 0.9970\n",
            "\n",
            "=== 테스트 샘플 예측 결과 ===\n",
            "부대 위치: 부대 S\n",
            "예측 결과: 정상 (0)\n",
            "입력 피처:\n",
            "duration                    0.000000\n",
            "service                     0.193143\n",
            "flag                        1.000000\n",
            "srcbytes                   11.000000\n",
            "dstbytes                    0.000000\n",
            "land                        0.000000\n",
            "wrongfragment               0.000000\n",
            "urgent                      0.000000\n",
            "hot                         0.000000\n",
            "numfailedlogins             0.000000\n",
            "loggedin                    0.000000\n",
            "numcompromised              0.000000\n",
            "rootshell                   0.000000\n",
            "suattempted                 0.000000\n",
            "numroot                     0.000000\n",
            "numfilecreations            0.000000\n",
            "numshells                   0.000000\n",
            "numaccessfiles              0.000000\n",
            "numoutboundcmds             0.000000\n",
            "ishostlogin                 0.000000\n",
            "isguestlogin                0.000000\n",
            "count                       1.000000\n",
            "srvcount                    1.000000\n",
            "serrorrate                  0.000000\n",
            "srvserrorrate               0.000000\n",
            "rerrorrate                  0.000000\n",
            "srvrerrorrate               0.000000\n",
            "samesrvrate                 1.000000\n",
            "diffsrvrate                 0.000000\n",
            "srvdiffhostrate             0.000000\n",
            "dsthostcount               72.000000\n",
            "dsthostsrvcount           122.000000\n",
            "dsthostsamesrvrate          0.670000\n",
            "dsthostdiffsrvrate          0.060000\n",
            "dsthostsamesrcportrate      0.670000\n",
            "dsthostsrvdiffhostrate      0.020000\n",
            "dsthostserrorrate           0.000000\n",
            "dsthostsrvserrorrate        0.000000\n",
            "dsthostrerrorrate           0.000000\n",
            "dsthostsrvrerrorrate        0.000000\n",
            "lastflag                   17.000000\n",
            "protocol_icmp               0.000000\n",
            "protocol_tcp                1.000000\n",
            "protocol_udp                0.000000\n"
          ]
        }
      ],
      "source": [
        "import pandas as pd\n",
        "import numpy as np\n",
        "import random\n",
        "from sklearn.model_selection import train_test_split\n",
        "from sklearn.preprocessing import MinMaxScaler\n",
        "from sklearn.naive_bayes import MultinomialNB\n",
        "\n",
        "# === 데이터 불러오기 ===\n",
        "df = pd.read_csv('/content/Training_Set1.csv')  # Colab에 업로드한 파일 경로\n",
        "\n",
        "# === 부대 정보 추가 ===\n",
        "locations = [f\"부대 {chr(c)}\" for c in range(ord('A'), ord('Z') + 1)]\n",
        "df[\"location\"] = np.random.choice(locations, size=len(df))\n",
        "\n",
        "# === 프로토콜 원-핫 인코딩 및 이진 매핑 ===\n",
        "df = pd.get_dummies(df, columns=['protocoltype'], prefix=['protocol'])\n",
        "df[\"protocol_icmp\"] = df[\"protocol_icmp\"].map({True: 1, False: 0})\n",
        "df[\"protocol_tcp\"] = df[\"protocol_tcp\"].map({True: 1, False: 0})\n",
        "df[\"protocol_udp\"] = df[\"protocol_udp\"].map({True: 1, False: 0})\n",
        "\n",
        "# === 서비스 평균 공격률로 수치화 ===\n",
        "Mean_of_services = df.groupby(['service'])['attack'].mean().to_dict()\n",
        "df['service'] = df['service'].map(Mean_of_services)\n",
        "\n",
        "# === 플래그 값 숫자 변환 ===\n",
        "flag_convert = {\"SF\":1,\"S0\":2,\"REJ\":3,\"RSTO\":4,'S1':5, \"RSTR\":6,'S2':7,'S3':8,\"OTH\":9,'SH':10}\n",
        "df['flag'] = df['flag'].map(flag_convert)\n",
        "\n",
        "# === 타겟과 피처 구분 ===\n",
        "target = df['attack']\n",
        "features = df.drop(columns=['attack', 'location'])\n",
        "\n",
        "# === 데이터 분리 ===\n",
        "X_train, X_val, y_train, y_val, loc_train, loc_val = train_test_split(\n",
        "    features, target, df['location'], test_size=0.3, random_state=2\n",
        ")\n",
        "\n",
        "# === 정규화 ===\n",
        "scaler = MinMaxScaler()\n",
        "X_train_scaled = scaler.fit_transform(X_train)\n",
        "X_val_scaled = scaler.transform(X_val)\n",
        "\n",
        "# === 모델 학습 ===\n",
        "model = MultinomialNB()\n",
        "model.fit(X_train_scaled, y_train)\n",
        "\n",
        "# === 정확도 평가 ===\n",
        "accuracy = model.score(X_val_scaled, y_val)\n",
        "print(f\"모델 정확도: {accuracy:.4f}\")\n",
        "\n",
        "# === 임의 샘플 예측 테스트 ===\n",
        "idx = random.randint(0, len(X_val) - 1)\n",
        "sample_data = X_val.iloc[idx]\n",
        "scaled_sample = X_val_scaled[idx]\n",
        "location = loc_val.iloc[idx]\n",
        "prediction = int(model.predict([scaled_sample])[0])\n",
        "\n",
        "print(\"\\n=== 테스트 샘플 예측 결과 ===\")\n",
        "print(f\"부대 위치: {location}\")\n",
        "print(f\"예측 결과: {'공격 (1)' if prediction == 1 else '정상 (0)'}\")\n",
        "print(f\"입력 피처:\\n{sample_data.to_string()}\")\n"
      ]
    },
    {
      "cell_type": "code",
      "source": [],
      "metadata": {
        "id": "vdk5yfYBxkWI"
      },
      "execution_count": null,
      "outputs": []
    }
  ]
}